{
 "cells": [
  {
   "cell_type": "code",
   "execution_count": 7,
   "metadata": {},
   "outputs": [
    {
     "name": "stdout",
     "output_type": "stream",
     "text": [
      "SGDRegrssor: 0.493181 (0.255708)\n"
     ]
    }
   ],
   "source": [
    "#Importing Libraries\n",
    "from sklearn import linear_model\n",
    "from sklearn.datasets import load_boston\n",
    "from sklearn.linear_model import SGDRegressor\n",
    "from sklearn.decomposition import PCA\n",
    "from sklearn.preprocessing import StandardScaler\n",
    "from sklearn.model_selection import cross_val_score\n",
    "from sklearn.metrics import r2_score,mean_squared_error\n",
    "from sklearn.pipeline import Pipeline\n",
    "\n",
    "import numpy as np\n",
    "import pandas as pd\n",
    "import warnings\n",
    "warnings.filterwarnings('ignore')\n",
    "\n",
    "#Loading data\n",
    "x=load_boston()\n",
    "data=pd.DataFrame(x.data,columns=x.feature_names)\n",
    "y=x.target\n",
    "\n",
    "# Creating a model\n",
    "pipe=[]\n",
    "pipe.append(('SC',StandardScaler()))\n",
    "pipe.append(('PCA',PCA(n_components=8)))\n",
    "pipe.append(('SGD',SGDRegressor(alpha=0.1,learning_rate='optimal',max_iter=400,penalty='l2')))\n",
    "model=Pipeline(pipe)\n",
    "\n",
    "#Cross Validation score\n",
    "cv_results=cross_val_score(model,data,y,cv=5)\n",
    "msg=\"%s: %f (%f)\" %('SGDRegrssor',cv_results.mean(), cv_results.std())\n",
    "print(msg)"
   ]
  },
  {
   "cell_type": "code",
   "execution_count": 8,
   "metadata": {},
   "outputs": [
    {
     "name": "stdout",
     "output_type": "stream",
     "text": [
      "SGDClassifier: 0.906667(0.048990)\n"
     ]
    }
   ],
   "source": [
    "from sklearn.linear_model import SGDClassifier\n",
    "from sklearn.datasets import load_iris\n",
    "\n",
    "#Loading data\n",
    "x=load_iris()\n",
    "data=pd.DataFrame(x.data,columns=x.feature_names)\n",
    "y=x.target\n",
    "\n",
    "#Creating model\n",
    "model=SGDClassifier()\n",
    "\n",
    "#Cross Validation score\n",
    "cv_results=cross_val_score(model,data,y,cv=5)\n",
    "msg=\"%s: %f(%f)\" %('SGDClassifier',cv_results.mean(),cv_results.std())\n",
    "print(msg)\n",
    "\n",
    "\n"
   ]
  },
  {
   "cell_type": "code",
   "execution_count": null,
   "metadata": {},
   "outputs": [],
   "source": []
  }
 ],
 "metadata": {
  "kernelspec": {
   "display_name": "Python 3",
   "language": "python",
   "name": "python3"
  },
  "language_info": {
   "codemirror_mode": {
    "name": "ipython",
    "version": 3
   },
   "file_extension": ".py",
   "mimetype": "text/x-python",
   "name": "python",
   "nbconvert_exporter": "python",
   "pygments_lexer": "ipython3",
   "version": "3.7.6"
  }
 },
 "nbformat": 4,
 "nbformat_minor": 4
}
